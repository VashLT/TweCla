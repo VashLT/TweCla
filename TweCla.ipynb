{
  "cells": [
    {
      "cell_type": "markdown",
      "metadata": {
        "id": "eJQuO3d_8RBq"
      },
      "source": [
        "<center> <img src=\"https://i.imgur.com/jCH5JgT.png\"  width=\"800px\" height=\"300px\">\n",
        "\n",
        "## <center>Classificator of Tweets by emotions\n",
        "----------------------------\n",
        "Members\n",
        "\n",
        "+ José Jaime Silva Martinez - 2183075\n",
        "+ Yuri Melissa Garcia Niño - 2182697\n",
        "+ Jhan Eduardo Rojas - 2182690"
      ]
    },
    {
      "cell_type": "markdown",
      "metadata": {
        "id": "PSf-s9hDk4_8"
      },
      "source": [
        "# Table of Contents\n",
        "\n",
        "*   <a href=\"#import_libraries\">Import libraries and load the dataset<a/>\n",
        "    * <a href=\"#dataset_statistics\">Dataset Statistics<a/>\n",
        "    * <a href=\"#utilities\">Utilities<a/>\n",
        "    * <a href=\"#text_preprocessing\">Text preprocessing<a/>\n",
        "    * <a href=\"#feature_extraction\">Feature extraction</a>\n",
        "* <a href=\"#models_pergender\">Models</a>\n",
        "    * <a href=\"#deep_learning\">Deep Learning<a/>\n",
        "    * <a href=\"#svc\">Support Vector Machine<a/>\n",
        "    * <a href=\"#rf\">Random Forest<a/>\n",
        "    * <a href=\"#lr\">Logistic Regression<a/>\n",
        "* <a href=\"#testing_predictions\">Testing and Predictions<a/>\n",
        "    * <a href=\"#playground\">Playground<a/>"
      ]
    },
    {
      "cell_type": "markdown",
      "metadata": {
        "id": "gftXTGOST3O6"
      },
      "source": [
        "# Set Up"
      ]
    },
    {
      "cell_type": "markdown",
      "metadata": {
        "id": "xpfADKdxJCPP"
      },
      "source": [
        "<a name=\"import_libraries\"></a>\n",
        "## Import libraries and load the dataset\n"
      ]
    },
    {
      "cell_type": "code",
      "execution_count": 1,
      "metadata": {
        "colab": {
          "base_uri": "https://localhost:8080/",
          "height": 241
        },
        "id": "_8XRQ2Z-8UI1",
        "outputId": "ecb4c753-6e3d-4706-a578-c76697a8a497"
      },
      "outputs": [
        {
          "output_type": "stream",
          "name": "stdout",
          "text": [
            "[nltk_data] Downloading package stopwords to /root/nltk_data...\n",
            "[nltk_data]   Unzipping corpora/stopwords.zip.\n"
          ]
        },
        {
          "output_type": "execute_result",
          "data": {
            "text/html": [
              "\n",
              "  <div id=\"df-54217ce1-941b-4d1b-8c8e-27313ba41ebb\">\n",
              "    <div class=\"colab-df-container\">\n",
              "      <div>\n",
              "<style scoped>\n",
              "    .dataframe tbody tr th:only-of-type {\n",
              "        vertical-align: middle;\n",
              "    }\n",
              "\n",
              "    .dataframe tbody tr th {\n",
              "        vertical-align: top;\n",
              "    }\n",
              "\n",
              "    .dataframe thead th {\n",
              "        text-align: right;\n",
              "    }\n",
              "</style>\n",
              "<table border=\"1\" class=\"dataframe\">\n",
              "  <thead>\n",
              "    <tr style=\"text-align: right;\">\n",
              "      <th></th>\n",
              "      <th>text</th>\n",
              "      <th>label</th>\n",
              "      <th>emotion</th>\n",
              "    </tr>\n",
              "  </thead>\n",
              "  <tbody>\n",
              "    <tr>\n",
              "      <th>0</th>\n",
              "      <td>i didnt feel humiliated</td>\n",
              "      <td>0</td>\n",
              "      <td>sadness</td>\n",
              "    </tr>\n",
              "    <tr>\n",
              "      <th>1</th>\n",
              "      <td>i can go from feeling so hopeless to so damned...</td>\n",
              "      <td>0</td>\n",
              "      <td>sadness</td>\n",
              "    </tr>\n",
              "    <tr>\n",
              "      <th>2</th>\n",
              "      <td>im grabbing a minute to post i feel greedy wrong</td>\n",
              "      <td>3</td>\n",
              "      <td>anger</td>\n",
              "    </tr>\n",
              "    <tr>\n",
              "      <th>3</th>\n",
              "      <td>i am ever feeling nostalgic about the fireplac...</td>\n",
              "      <td>2</td>\n",
              "      <td>love</td>\n",
              "    </tr>\n",
              "    <tr>\n",
              "      <th>4</th>\n",
              "      <td>i am feeling grouchy</td>\n",
              "      <td>3</td>\n",
              "      <td>anger</td>\n",
              "    </tr>\n",
              "  </tbody>\n",
              "</table>\n",
              "</div>\n",
              "      <button class=\"colab-df-convert\" onclick=\"convertToInteractive('df-54217ce1-941b-4d1b-8c8e-27313ba41ebb')\"\n",
              "              title=\"Convert this dataframe to an interactive table.\"\n",
              "              style=\"display:none;\">\n",
              "        \n",
              "  <svg xmlns=\"http://www.w3.org/2000/svg\" height=\"24px\"viewBox=\"0 0 24 24\"\n",
              "       width=\"24px\">\n",
              "    <path d=\"M0 0h24v24H0V0z\" fill=\"none\"/>\n",
              "    <path d=\"M18.56 5.44l.94 2.06.94-2.06 2.06-.94-2.06-.94-.94-2.06-.94 2.06-2.06.94zm-11 1L8.5 8.5l.94-2.06 2.06-.94-2.06-.94L8.5 2.5l-.94 2.06-2.06.94zm10 10l.94 2.06.94-2.06 2.06-.94-2.06-.94-.94-2.06-.94 2.06-2.06.94z\"/><path d=\"M17.41 7.96l-1.37-1.37c-.4-.4-.92-.59-1.43-.59-.52 0-1.04.2-1.43.59L10.3 9.45l-7.72 7.72c-.78.78-.78 2.05 0 2.83L4 21.41c.39.39.9.59 1.41.59.51 0 1.02-.2 1.41-.59l7.78-7.78 2.81-2.81c.8-.78.8-2.07 0-2.86zM5.41 20L4 18.59l7.72-7.72 1.47 1.35L5.41 20z\"/>\n",
              "  </svg>\n",
              "      </button>\n",
              "      \n",
              "  <style>\n",
              "    .colab-df-container {\n",
              "      display:flex;\n",
              "      flex-wrap:wrap;\n",
              "      gap: 12px;\n",
              "    }\n",
              "\n",
              "    .colab-df-convert {\n",
              "      background-color: #E8F0FE;\n",
              "      border: none;\n",
              "      border-radius: 50%;\n",
              "      cursor: pointer;\n",
              "      display: none;\n",
              "      fill: #1967D2;\n",
              "      height: 32px;\n",
              "      padding: 0 0 0 0;\n",
              "      width: 32px;\n",
              "    }\n",
              "\n",
              "    .colab-df-convert:hover {\n",
              "      background-color: #E2EBFA;\n",
              "      box-shadow: 0px 1px 2px rgba(60, 64, 67, 0.3), 0px 1px 3px 1px rgba(60, 64, 67, 0.15);\n",
              "      fill: #174EA6;\n",
              "    }\n",
              "\n",
              "    [theme=dark] .colab-df-convert {\n",
              "      background-color: #3B4455;\n",
              "      fill: #D2E3FC;\n",
              "    }\n",
              "\n",
              "    [theme=dark] .colab-df-convert:hover {\n",
              "      background-color: #434B5C;\n",
              "      box-shadow: 0px 1px 3px 1px rgba(0, 0, 0, 0.15);\n",
              "      filter: drop-shadow(0px 1px 2px rgba(0, 0, 0, 0.3));\n",
              "      fill: #FFFFFF;\n",
              "    }\n",
              "  </style>\n",
              "\n",
              "      <script>\n",
              "        const buttonEl =\n",
              "          document.querySelector('#df-54217ce1-941b-4d1b-8c8e-27313ba41ebb button.colab-df-convert');\n",
              "        buttonEl.style.display =\n",
              "          google.colab.kernel.accessAllowed ? 'block' : 'none';\n",
              "\n",
              "        async function convertToInteractive(key) {\n",
              "          const element = document.querySelector('#df-54217ce1-941b-4d1b-8c8e-27313ba41ebb');\n",
              "          const dataTable =\n",
              "            await google.colab.kernel.invokeFunction('convertToInteractive',\n",
              "                                                     [key], {});\n",
              "          if (!dataTable) return;\n",
              "\n",
              "          const docLinkHtml = 'Like what you see? Visit the ' +\n",
              "            '<a target=\"_blank\" href=https://colab.research.google.com/notebooks/data_table.ipynb>data table notebook</a>'\n",
              "            + ' to learn more about interactive tables.';\n",
              "          element.innerHTML = '';\n",
              "          dataTable['output_type'] = 'display_data';\n",
              "          await google.colab.output.renderOutput(dataTable, element);\n",
              "          const docLink = document.createElement('div');\n",
              "          docLink.innerHTML = docLinkHtml;\n",
              "          element.appendChild(docLink);\n",
              "        }\n",
              "      </script>\n",
              "    </div>\n",
              "  </div>\n",
              "  "
            ],
            "text/plain": [
              "                                                text  label  emotion\n",
              "0                            i didnt feel humiliated      0  sadness\n",
              "1  i can go from feeling so hopeless to so damned...      0  sadness\n",
              "2   im grabbing a minute to post i feel greedy wrong      3    anger\n",
              "3  i am ever feeling nostalgic about the fireplac...      2     love\n",
              "4                               i am feeling grouchy      3    anger"
            ]
          },
          "metadata": {},
          "execution_count": 1
        }
      ],
      "source": [
        "#@title Import libraries and load the dataset\n",
        "#@markdown The chosen dataset has two columns, `text` (content of the tweet) and `label`, a number between 0 and 5 that represents an emotion. Here are the six basics considered:\n",
        "\n",
        "#@markdown *   Sadness\n",
        "#@markdown *   Joy\n",
        "#@markdown *   Love\n",
        "#@markdown *   Anger\n",
        "#@markdown *   Fear\n",
        "#@markdown *   Surprise\n",
        "\n",
        "#@markdown Source of dataset: https://www.kaggle.com/parulpandey/emotion-dataset?select=training.csv\n",
        "\n",
        "# ML\n",
        "import tensorflow as tf\n",
        "from tensorflow import keras\n",
        "import numpy as np\n",
        "import pandas as pd\n",
        "\n",
        "# plotting\n",
        "import matplotlib.pyplot as plt\n",
        "import matplotlib\n",
        "import matplotlib.pyplot as plt\n",
        "import seaborn as sns\n",
        "\n",
        "import nltk\n",
        "from nltk.corpus import stopwords\n",
        "nltk.download(\"stopwords\")\n",
        "STOP_WORDS = set(stopwords.words(\"english\"))\n",
        "\n",
        "sns.set(style='whitegrid', palette='muted', font_scale=1.2)\n",
        "PALETTE = [\"#003f5c\", \"#444e86\", \"#955196\", \"#dd5182\", \"#ff6e54\", \"#ffa600\"]\n",
        "sns.set_palette(sns.color_palette(PALETTE))\n",
        "\n",
        "NUM_CLASSES = 6\n",
        "EMOTIONS_MAP = {\n",
        "  0: \"sadness\",\n",
        "  1: \"joy\",\n",
        "  2: \"love\",\n",
        "  3: \"anger\",\n",
        "  4: \"fear\",\n",
        "  5: \"surprise\"\n",
        "}\n",
        "\n",
        "LINK_DATASET_TRAINING = 'https://drive.google.com/uc?id=186JB1cJuBQV2JddKYUQYCHzORaSCO7zG'\n",
        "LINK_DATASET_TEST = 'https://drive.google.com/uc?id=18rm4txveuyXUcdYB6_c2NuuqKd_n-xGz'\n",
        "\n",
        "tweet_emotions_training = pd.read_csv(LINK_DATASET_TRAINING, delimiter=',')\n",
        "tweet_emotions_test = pd.read_csv(LINK_DATASET_TEST, delimiter=',')\n",
        "\n",
        "# add an aditional column with the label text\n",
        "tweet_emotions_training['emotion'] = tweet_emotions_training['label'].map(EMOTIONS_MAP)\n",
        "tweet_emotions_test['emotion'] = tweet_emotions_test['label'].map(EMOTIONS_MAP)\n",
        "\n",
        "tweet_emotions_training.head()"
      ]
    },
    {
      "cell_type": "markdown",
      "metadata": {
        "id": "cF7GJ5MoJru3"
      },
      "source": [
        "<a name=\"utilities\"></a>\n",
        "## Utilities"
      ]
    },
    {
      "cell_type": "code",
      "execution_count": 2,
      "metadata": {
        "id": "8hFLTNUuIBR2"
      },
      "outputs": [],
      "source": [
        "from matplotlib.cbook import strip_math\n",
        "def to_percent(value: float, n_decimals=4) -> float:\n",
        "  \"\"\" turn value into percentage \"\"\"\n",
        "  return round(value * 100, n_decimals)\n",
        "\n",
        "def plot_history(history, title: str):\n",
        "    acc = history.history['accuracy']\n",
        "    val_acc = history.history['val_accuracy']\n",
        "    loss = history.history['loss']\n",
        "    val_loss = history.history['val_loss']\n",
        "    x = range(1, len(acc) + 1)\n",
        "\n",
        "    fig = plt.figure(figsize=(12, 5))\n",
        "    ax = plt.subplot(1, 2, 1)\n",
        "    plt.plot(x, acc, 'b', label='Training acc')\n",
        "    plt.plot(x, val_acc, 'r', label='Validation acc')\n",
        "    ax.set_title(\"Training and validation accuracy\")\n",
        "    plt.legend()\n",
        "    ax = plt.subplot(1, 2, 2)\n",
        "    plt.plot(x, loss, 'b', label='Training loss')\n",
        "    plt.plot(x, val_loss, 'r', label='Validation loss')\n",
        "    ax.set_title('Training and validation loss')\n",
        "    plt.legend()\n",
        "    fig.suptitle(title)\n"
      ]
    },
    {
      "cell_type": "markdown",
      "metadata": {
        "id": "dxOIpZ0HK7TW"
      },
      "source": [
        "<a name=\"text_preprocessing\"></a>\n",
        "## Text Preprocessing"
      ]
    },
    {
      "cell_type": "code",
      "execution_count": 3,
      "metadata": {
        "id": "aahaAtffK_uK"
      },
      "outputs": [],
      "source": [
        "import re, string\n",
        "\n",
        "abbreviations = {\n",
        "        \"$\" : \" dollar \",\n",
        "        \"€\" : \" euro \",\n",
        "        \"4ao\" : \"for adults only\",\n",
        "        \"a.m\" : \"before midday\",\n",
        "        \"a3\" : \"anytime anywhere anyplace\",\n",
        "        \"aamof\" : \"as a matter of fact\",\n",
        "        \"acct\" : \"account\",\n",
        "        \"adih\" : \"another day in hell\",\n",
        "        \"afaic\" : \"as far as i am concerned\",\n",
        "        \"afaict\" : \"as far as i can tell\",\n",
        "        \"afaik\" : \"as far as i know\",\n",
        "        \"afair\" : \"as far as i remember\",\n",
        "        \"afk\" : \"away from keyboard\",\n",
        "        \"app\" : \"application\",\n",
        "        \"approx\" : \"approximately\",\n",
        "        \"apps\" : \"applications\",\n",
        "        \"asap\" : \"as soon as possible\",\n",
        "        \"asl\" : \"age, sex, location\",\n",
        "        \"atk\" : \"at the keyboard\",\n",
        "        \"ave.\" : \"avenue\",\n",
        "        \"aymm\" : \"are you my mother\",\n",
        "        \"ayor\" : \"at your own risk\", \n",
        "        \"b&b\" : \"bed and breakfast\",\n",
        "        \"b+b\" : \"bed and breakfast\",\n",
        "        \"b.c\" : \"before christ\",\n",
        "        \"b2b\" : \"business to business\",\n",
        "        \"b2c\" : \"business to customer\",\n",
        "        \"b4\" : \"before\",\n",
        "        \"b4n\" : \"bye for now\",\n",
        "        \"b@u\" : \"back at you\",\n",
        "        \"bae\" : \"before anyone else\",\n",
        "        \"bak\" : \"back at keyboard\",\n",
        "        \"bbbg\" : \"bye bye be good\",\n",
        "        \"bbc\" : \"british broadcasting corporation\",\n",
        "        \"bbias\" : \"be back in a second\",\n",
        "        \"bbl\" : \"be back later\",\n",
        "        \"bbs\" : \"be back soon\",\n",
        "        \"be4\" : \"before\",\n",
        "        \"bfn\" : \"bye for now\",\n",
        "        \"blvd\" : \"boulevard\",\n",
        "        \"bout\" : \"about\",\n",
        "        \"brb\" : \"be right back\",\n",
        "        \"bros\" : \"brothers\",\n",
        "        \"brt\" : \"be right there\",\n",
        "        \"bsaaw\" : \"big smile and a wink\",\n",
        "        \"btw\" : \"by the way\",\n",
        "        \"bwl\" : \"bursting with laughter\",\n",
        "        \"c/o\" : \"care of\",\n",
        "        \"cet\" : \"central european time\",\n",
        "        \"cf\" : \"compare\",\n",
        "        \"cia\" : \"central intelligence agency\",\n",
        "        \"csl\" : \"can not stop laughing\",\n",
        "        \"cu\" : \"see you\",\n",
        "        \"cul8r\" : \"see you later\",\n",
        "        \"cv\" : \"curriculum vitae\",\n",
        "        \"cwot\" : \"complete waste of time\",\n",
        "        \"cya\" : \"see you\",\n",
        "        \"cyt\" : \"see you tomorrow\",\n",
        "        \"dae\" : \"does anyone else\",\n",
        "        \"dbmib\" : \"do not bother me i am busy\",\n",
        "        \"diy\" : \"do it yourself\",\n",
        "        \"dm\" : \"direct message\",\n",
        "        \"dwh\" : \"during work hours\",\n",
        "        \"e123\" : \"easy as one two three\",\n",
        "        \"eet\" : \"eastern european time\",\n",
        "        \"eg\" : \"example\",\n",
        "        \"embm\" : \"early morning business meeting\",\n",
        "        \"encl\" : \"enclosed\",\n",
        "        \"encl.\" : \"enclosed\",\n",
        "        \"etc\" : \"and so on\",\n",
        "        \"faq\" : \"frequently asked questions\",\n",
        "        \"fawc\" : \"for anyone who cares\",\n",
        "        \"fb\" : \"facebook\",\n",
        "        \"fc\" : \"fingers crossed\",\n",
        "        \"fig\" : \"figure\",\n",
        "        \"fimh\" : \"forever in my heart\", \n",
        "        \"ft.\" : \"feet\",\n",
        "        \"ft\" : \"featuring\",\n",
        "        \"ftl\" : \"for the loss\",\n",
        "        \"ftw\" : \"for the win\",\n",
        "        \"fwiw\" : \"for what it is worth\",\n",
        "        \"fyi\" : \"for your information\",\n",
        "        \"g9\" : \"genius\",\n",
        "        \"gahoy\" : \"get a hold of yourself\",\n",
        "        \"gal\" : \"get a life\",\n",
        "        \"gcse\" : \"general certificate of secondary education\",\n",
        "        \"gfn\" : \"gone for now\",\n",
        "        \"gg\" : \"good game\",\n",
        "        \"gl\" : \"good luck\",\n",
        "        \"glhf\" : \"good luck have fun\",\n",
        "        \"gmt\" : \"greenwich mean time\",\n",
        "        \"gmta\" : \"great minds think alike\",\n",
        "        \"gn\" : \"good night\",\n",
        "        \"g.o.a.t\" : \"greatest of all time\",\n",
        "        \"goat\" : \"greatest of all time\",\n",
        "        \"goi\" : \"get over it\",\n",
        "        \"gps\" : \"global positioning system\",\n",
        "        \"gr8\" : \"great\",\n",
        "        \"gratz\" : \"congratulations\",\n",
        "        \"gyal\" : \"girl\",\n",
        "        \"h&c\" : \"hot and cold\",\n",
        "        \"hp\" : \"horsepower\",\n",
        "        \"hr\" : \"hour\",\n",
        "        \"hrh\" : \"his royal highness\",\n",
        "        \"ht\" : \"height\",\n",
        "        \"ibrb\" : \"i will be right back\",\n",
        "        \"ic\" : \"i see\",\n",
        "        \"icq\" : \"i seek you\",\n",
        "        \"icymi\" : \"in case you missed it\",\n",
        "        \"idc\" : \"i do not care\",\n",
        "        \"idgadf\" : \"i do not give a damn fuck\",\n",
        "        \"idgaf\" : \"i do not give a fuck\",\n",
        "        \"idk\" : \"i do not know\",\n",
        "        \"ie\" : \"that is\",\n",
        "        \"i.e\" : \"that is\",\n",
        "        \"ifyp\" : \"i feel your pain\",\n",
        "        \"ig\" : \"instagram\",\n",
        "        \"iirc\" : \"if i remember correctly\",\n",
        "        \"ilu\" : \"i love you\",\n",
        "        \"ily\" : \"i love you\",\n",
        "        \"imho\" : \"in my humble opinion\",\n",
        "        \"imo\" : \"in my opinion\",\n",
        "        \"imu\" : \"i miss you\",\n",
        "        \"iow\" : \"in other words\",\n",
        "        \"irl\" : \"in real life\",\n",
        "        \"j4f\" : \"just for fun\",\n",
        "        \"jic\" : \"just in case\",\n",
        "        \"jk\" : \"just kidding\",\n",
        "        \"jsyk\" : \"just so you know\",\n",
        "        \"l8r\" : \"later\",\n",
        "        \"lb\" : \"pound\",\n",
        "        \"lbs\" : \"pounds\",\n",
        "        \"ldr\" : \"long distance relationship\",\n",
        "        \"lmao\" : \"laugh my ass off\",\n",
        "        \"lmfao\" : \"laugh my fucking ass off\",\n",
        "        \"lol\" : \"laughing out loud\",\n",
        "        \"ltd\" : \"limited\",\n",
        "        \"ltns\" : \"long time no see\",\n",
        "        \"m8\" : \"mate\",\n",
        "        \"mf\" : \"motherfucker\",\n",
        "        \"mfs\" : \"motherfuckers\",\n",
        "        \"mfw\" : \"my face when\",\n",
        "        \"mofo\" : \"motherfucker\",\n",
        "        \"mph\" : \"miles per hour\",\n",
        "        \"mr\" : \"mister\",\n",
        "        \"mrw\" : \"my reaction when\",\n",
        "        \"ms\" : \"miss\",\n",
        "        \"mte\" : \"my thoughts exactly\",\n",
        "        \"nagi\" : \"not a good idea\",\n",
        "        \"nbc\" : \"national broadcasting company\",\n",
        "        \"nbd\" : \"not big deal\",\n",
        "        \"nfs\" : \"not for sale\",\n",
        "        \"ngl\" : \"not going to lie\",\n",
        "        \"nhs\" : \"national health service\",\n",
        "        \"nrn\" : \"no reply necessary\",\n",
        "        \"nsfl\" : \"not safe for life\",\n",
        "        \"nsfw\" : \"not safe for work\",\n",
        "        \"nth\" : \"nice to have\",\n",
        "        \"nvr\" : \"never\",\n",
        "        \"nyc\" : \"new york city\",\n",
        "        \"oc\" : \"original content\",\n",
        "        \"og\" : \"original\",\n",
        "        \"ohp\" : \"overhead projector\",\n",
        "        \"oic\" : \"oh i see\",\n",
        "        \"omdb\" : \"over my dead body\",\n",
        "        \"omg\" : \"oh my god\",\n",
        "        \"omw\" : \"on my way\",\n",
        "        \"p.a\" : \"per annum\",\n",
        "        \"p.m\" : \"after midday\",\n",
        "        \"pm\" : \"prime minister\",\n",
        "        \"poc\" : \"people of color\",\n",
        "        \"pov\" : \"point of view\",\n",
        "        \"pp\" : \"pages\",\n",
        "        \"ppl\" : \"people\",\n",
        "        \"prw\" : \"parents are watching\",\n",
        "        \"ps\" : \"postscript\",\n",
        "        \"pt\" : \"point\",\n",
        "        \"ptb\" : \"please text back\",\n",
        "        \"pto\" : \"please turn over\",\n",
        "        \"qpsa\" : \"what happens\", \n",
        "        \"ratchet\" : \"rude\",\n",
        "        \"rbtl\" : \"read between the lines\",\n",
        "        \"rlrt\" : \"real life retweet\", \n",
        "        \"rofl\" : \"rolling on the floor laughing\",\n",
        "        \"roflol\" : \"rolling on the floor laughing out loud\",\n",
        "        \"rotflmao\" : \"rolling on the floor laughing my ass off\",\n",
        "        \"rt\" : \"retweet\",\n",
        "        \"ruok\" : \"are you ok\",\n",
        "        \"sfw\" : \"safe for work\",\n",
        "        \"sk8\" : \"skate\",\n",
        "        \"smh\" : \"shake my head\",\n",
        "        \"sq\" : \"square\",\n",
        "        \"srsly\" : \"seriously\", \n",
        "        \"ssdd\" : \"same stuff different day\",\n",
        "        \"tbh\" : \"to be honest\",\n",
        "        \"tbs\" : \"tablespooful\",\n",
        "        \"tbsp\" : \"tablespooful\",\n",
        "        \"tfw\" : \"that feeling when\",\n",
        "        \"thks\" : \"thank you\",\n",
        "        \"tho\" : \"though\",\n",
        "        \"thx\" : \"thank you\",\n",
        "        \"tia\" : \"thanks in advance\",\n",
        "        \"til\" : \"today i learned\",\n",
        "        \"tl;dr\" : \"too long i did not read\",\n",
        "        \"tldr\" : \"too long i did not read\",\n",
        "        \"tmb\" : \"tweet me back\",\n",
        "        \"tntl\" : \"trying not to laugh\",\n",
        "        \"ttyl\" : \"talk to you later\",\n",
        "        \"u\" : \"you\",\n",
        "        \"u2\" : \"you too\",\n",
        "        \"u4e\" : \"yours for ever\",\n",
        "        \"utc\" : \"coordinated universal time\",\n",
        "        \"w/\" : \"with\",\n",
        "        \"w/o\" : \"without\",\n",
        "        \"w8\" : \"wait\",\n",
        "        \"wassup\" : \"what is up\",\n",
        "        \"wb\" : \"welcome back\",\n",
        "        \"wtf\" : \"what the fuck\",\n",
        "        \"wtg\" : \"way to go\",\n",
        "        \"wtpa\" : \"where the party at\",\n",
        "        \"wuf\" : \"where are you from\",\n",
        "        \"wuzup\" : \"what is up\",\n",
        "        \"wywh\" : \"wish you were here\",\n",
        "        \"yd\" : \"yard\",\n",
        "        \"ygtr\" : \"you got that right\",\n",
        "        \"ynk\" : \"you never know\",\n",
        "        \"zzz\" : \"sleeping bored and tired\"\n",
        "    }\n",
        "\n",
        "# src of this: https://www.kaggle.com/skrisshnaswamy/sentiment-analysis-sentiment140-l-nfs-vs-gru\n",
        "def decontract(text: str) -> str:\n",
        "    # remove special chars\n",
        "    text = re.sub(r\"\\x89Û_\", \"\", text)\n",
        "    text = re.sub(r\"\\x89ÛÒ\", \"\", text)\n",
        "    text = re.sub(r\"\\x89ÛÓ\", \"\", text)\n",
        "    text = re.sub(r\"\\x89ÛÏ\", \"\", text)\n",
        "    text = re.sub(r\"\\x89Û÷\", \"\", text)\n",
        "    text = re.sub(r\"\\x89Ûª\", \"\", text)\n",
        "    text = re.sub(r\"\\x89Û\\x9d\", \"\", text)\n",
        "    text = re.sub(r\"å_\", \"\", text)\n",
        "    text = re.sub(r\"\\x89Û¢\", \"\", text)\n",
        "    text = re.sub(r\"\\x89Û¢åÊ\", \"\", text)\n",
        "    text = re.sub(r\"åÊ\", \"\", text)\n",
        "    text = re.sub(r\"åÈ\", \"\", text)\n",
        "    text = re.sub(r\"Ì©\", \"e\", text)\n",
        "    text = re.sub(r\"å¨\", \"\", text)\n",
        "    text = re.sub(r\"åÇ\", \"\", text)\n",
        "    text = re.sub(r\"åÀ\", \"\", text)\n",
        "\n",
        "    # remove contractions\n",
        "    text = re.sub(r\"let\\x89Ûªs\", \"let us\", text)\n",
        "    text = re.sub(r\"let's\", \"let us\", text)\n",
        "    text = re.sub(r\"he's\", \"he is\", text)\n",
        "    text = re.sub(r\"there's\", \"there is\", text)\n",
        "    text = re.sub(r\"we're\", \"we are\", text)\n",
        "    text = re.sub(r\"that's\", \"that is\", text)\n",
        "    text = re.sub(r\"that\\x89Ûªs\", \"that is\", text)\n",
        "    text = re.sub(r\"won't\", \"will not\", text)\n",
        "    text = re.sub(r\"wont\", \"will not\", text)\n",
        "    text = re.sub(r\"they're\", \"they are\", text)\n",
        "    text = re.sub(r\"can't\", \"cannot\", text)\n",
        "    text = re.sub(r\"cant\", \"cannot\", text)\n",
        "    text = re.sub(r\"can\\x89Ûªt\", \"cannot\", text)\n",
        "    text = re.sub(r\"wasn't\", \"was not\", text)\n",
        "    text = re.sub(r\"wasnt\", \"was not\", text)\n",
        "    text = re.sub(r\"don't\", \"do not\", text)\n",
        "    text = re.sub(r\"dont\", \"do not\", text)\n",
        "    text = re.sub(r\"donå«t\", \"do not\", text)  \n",
        "    text = re.sub(r\"don\\x89Ûªt\", \"do not\", text)\n",
        "    text = re.sub(r\"didn't\", \"did not\", text)\n",
        "    text = re.sub(r\"didnt\", \"did not\", text)\n",
        "    text = re.sub(r\"aren't\", \"are not\", text)\n",
        "    text = re.sub(r\"isn't\", \"is not\", text)\n",
        "    text = re.sub(r\"isnt\", \"is not\", text)\n",
        "    text = re.sub(r\"what's\", \"what is\", text)\n",
        "    text = re.sub(r\"haven't\", \"have not\", text)\n",
        "    text = re.sub(r\"hasn't\", \"has not\", text)\n",
        "    text = re.sub(r\"it's\", \"it is\", text)\n",
        "    text = re.sub(r\"it\\x89Ûªs\", \"it is\", text)\n",
        "    text = re.sub(r\"you're\", \"you are\", text)\n",
        "    text = re.sub(r\"you\\x89Ûªre\", \"you are\", text)\n",
        "    text = re.sub(r\"i'm\", \"i am\", text)\n",
        "    text = re.sub(r\"im\", \"i am\", text)\n",
        "    text = re.sub(r\"i\\x89Ûªm\", \"i am\", text)\n",
        "    text = re.sub(r\"shoulda\", \"should have\", text)\n",
        "    text = re.sub(r\"shouldn't\", \"should not\", text)\n",
        "    text = re.sub(r\"wouldn't\", \"would not\", text)\n",
        "    text = re.sub(r\"wouldn\\x89Ûªt\", \"would not\", text)\n",
        "    text = re.sub(r\"here's\", \"here is\", text)\n",
        "    text = re.sub(r\"here\\x89Ûªs\", \"here is\", text)\n",
        "    text = re.sub(r\"where's\", \"where is\", text)\n",
        "    text = re.sub(r\"you've\", \"you have\", text)\n",
        "    text = re.sub(r\"you\\x89Ûªve\", \"you have\", text)\n",
        "    text = re.sub(r\"youve\", \"you have\", text)\n",
        "    text = re.sub(r\"couldn't\", \"could not\", text)\n",
        "    text = re.sub(r\"we've\", \"we have\", text)\n",
        "    text = re.sub(r\"doesn't\", \"does not\", text)\n",
        "    text = re.sub(r\"doesn\\x89Ûªt\", \"does not\", text)\n",
        "    text = re.sub(r\"who's\", \"who is\", text)\n",
        "    text = re.sub(r\"i've\", \"i have\", text)\n",
        "    text = re.sub(r\"ive\", \"i have\", text)    \n",
        "    text = re.sub(r\"i\\x89Ûªve\", \"i have\", text)\n",
        "    text = re.sub(r\"y'all\", \"you all\", text)\n",
        "    text = re.sub(r\"would've\", \"would have\", text)\n",
        "    text = re.sub(r\"it'll\", \"it will\", text)\n",
        "    text = re.sub(r\"we'll\", \"we will\", text)\n",
        "    text = re.sub(r\"he'll\", \"he will\", text)\n",
        "    text = re.sub(r\"weren't\", \"were not\", text)\n",
        "    text = re.sub(r\"didn't\", \"did not\", text)\n",
        "    text = re.sub(r\"they'll\", \"they will\", text)\n",
        "    text = re.sub(r\"theyll\", \"they will\", text)\n",
        "    text = re.sub(r\"they'd\", \"they would\", text)\n",
        "    text = re.sub(r\"theyd\", \"they would\", text)\n",
        "    text = re.sub(r\"they've\", \"they have\", text)\n",
        "    text = re.sub(r\"i'd\", \"i would\", text)\n",
        "    text = re.sub(r\"I\\x89Ûªd\", \"I would\", text)\n",
        "    text = re.sub(r\"should've\", \"should have\", text)\n",
        "    text = re.sub(r\"we'd\", \"we would\", text)\n",
        "    text = re.sub(r\"i'll\", \"i will\", text)\n",
        "    text = re.sub(r\"^ill$\", \"i will\", text)\n",
        "    text = re.sub(r\"you'll\", \"you will\", text)\n",
        "    text = re.sub(r\"youll\", \"you will\", text)\n",
        "    text = re.sub(r\"you\\x89Ûªll\", \"you will\", text)    \n",
        "    text = re.sub(r\"ain't\", \"am not\", text)    \n",
        "    text = re.sub(r\"you'd\", \"you would\", text)\n",
        "    text = re.sub(r\"could've\", \"could have\", text)\n",
        "    text = re.sub(r\"mÌ¼sica\", \"music\", text)\n",
        "    text = re.sub(r\"some1\", \"someone\", text)\n",
        "    text = re.sub(r\"yrs\", \"years\", text)\n",
        "    text = re.sub(r\"hrs\", \"hours\", text)\n",
        "    text = re.sub(r\"2morow|2moro\", \"tomorrow\", text)\n",
        "    text = re.sub(r\"2day\", \"today\", text)\n",
        "    text = re.sub(r\"4got|4gotten\", \"forget\", text)\n",
        "    text = re.sub(r\"b-day|bday\", \"b-day\", text)\n",
        "    text = re.sub(r\"mother's\", \"mother\", text)\n",
        "    text = re.sub(r\"mom's\", \"mom\", text)\n",
        "    text = re.sub(r\"dad's\", \"dad\", text)\n",
        "    text = re.sub(r\"^[h|a]+$\", \"haha\", text)\n",
        "    text = re.sub(r\"lmao|lolz|rofl\", \"lol\", text)\n",
        "    text = re.sub(r\"thanx|thnx|thx\", \"thanks\", text)\n",
        "    text = re.sub(r'all[l]+', \"all\", text)\n",
        "    text = re.sub(r'so[o]+', \"so\", text)\n",
        "    text = re.sub(r'a[w]+', \"awww\", text)\n",
        "    text = re.sub(r'why[y]+', \"why\", text)\n",
        "    text = re.sub(r'way[y]+', \"way\", text)\n",
        "    text = re.sub(r'will[l]+', \"will\", text)\n",
        "    text = re.sub(r'oo[o]+h', \"ooh\", text)\n",
        "    text = re.sub(r'hey[y]+', \"hey\", text)\n",
        "    text = re.sub(r\"boo[o]+m\", \"boom\", text)\n",
        "    text = re.sub(r\"co[o]+ld\", \"cold\", text)\n",
        "    text = re.sub(r\"goo[o]+d\", \"good\", text)\n",
        "    text = re.sub(r\"luckigrrl\", \"lucky girl\", text)\n",
        "    text = re.sub(r\"evolvin\", \"evolving\", text)\n",
        "\n",
        "    # specific\n",
        "    text = re.sub(r\"won't\", \"will not\", text)\n",
        "    text = re.sub(r\"wont\", \"will not\", text)\n",
        "    text = re.sub(r\"can\\'t\", \"can not\", text)\n",
        "    text = re.sub(r\"cant\", \"can not\", text)\n",
        "    text = re.sub(r\"@\", \"\" , text)         # removal of @\n",
        "    text = re.sub(r\"http\\S+\", \"\", text)   # removal of URLs\n",
        "    text = re.sub(r\"#\", \"\", text) \n",
        "    \n",
        "    # general\n",
        "    text = re.sub(r\"n\\'t\", \" not\", text)\n",
        "    text = re.sub(r\"\\'re\", \" are\", text)\n",
        "    text = re.sub(r\"\\'s\", \" is\", text)\n",
        "    text = re.sub(r\"\\'d\", \" would\", text)\n",
        "    text = re.sub(r\"\\'ll\", \" will\", text)\n",
        "    text = re.sub(r\"\\'t\", \" not\", text)\n",
        "    text = re.sub(r\"\\'ve\", \" have\", text)\n",
        "    text = re.sub(r\"\\'m\", \" am\", text)\n",
        "\n",
        "    # deal with some abbreviations\n",
        "    words = text.split()\n",
        "    text = ' '.join([abbreviations[word] if word in abbreviations.keys() else word.strip(string.punctuation) for word in words])\n",
        "\n",
        "\n",
        "    # character entity references\n",
        "    text = re.sub(r\"&gt;\", \">\", text)\n",
        "    text = re.sub(r\"&lt;\", \"<\", text)\n",
        "    text = re.sub(r\"&amp;\", \"&\", text)\n",
        "\n",
        "    # typos, slang and informal abbreviations\n",
        "    text = re.sub(r\"w/e\", \"whatever\", text)\n",
        "    text = re.sub(r\"usagov\", \"usa government\", text)\n",
        "    text = re.sub(r\"<3\", \"love\", text)\n",
        "    text = re.sub(r\"trfc\", \"traffic\", text)\n",
        "\n",
        "    \n",
        "    # remove mentions\n",
        "    text = re.sub(r'^@[0-9a-zA-Z_]+', \"\", text)\n",
        "\n",
        "    # words with punctuations and special characters\n",
        "    for punc in string.punctuation:\n",
        "        text = text.replace(punc, '')\n",
        "\n",
        "    # ... and ..\n",
        "    text = text.replace('...', ' ... ')\n",
        "    if '...' not in text:\n",
        "        text = text.replace('..', ' ... ')\n",
        "\n",
        "    return text\n",
        "\n",
        "def remove_repeating_char(text):\n",
        "    return re.sub(r'(.)\\1{2,}', r'\\1', text)\n",
        "\n",
        "def clean_tweet(text: str) -> str:\n",
        "  text = text.lower()\n",
        "  text = decontract(text)\n",
        "  text = remove_repeating_char(text)\n",
        "\n",
        "  return text"
      ]
    },
    {
      "cell_type": "code",
      "execution_count": 4,
      "metadata": {
        "id": "O9YSc00EZP9d"
      },
      "outputs": [],
      "source": [
        "# define training data and cleaned data\n",
        "data_train = tweet_emotions_training.copy()\n",
        "data_test = tweet_emotions_test.copy()\n",
        "\n",
        "# clean tweets for training and testing     \n",
        "data_train[\"text\"] = tweet_emotions_training[\"text\"].apply(lambda tweet: clean_tweet(tweet))\n",
        "data_test[\"text\"] = tweet_emotions_test[\"text\"].apply(lambda tweet: clean_tweet(tweet))"
      ]
    },
    {
      "cell_type": "code",
      "execution_count": 5,
      "metadata": {
        "colab": {
          "base_uri": "https://localhost:8080/",
          "height": 206
        },
        "id": "ZrMR-t3MrgmX",
        "outputId": "6d17ca71-4ddf-4bb8-e633-d64537cc9b1c"
      },
      "outputs": [
        {
          "output_type": "execute_result",
          "data": {
            "text/html": [
              "\n",
              "  <div id=\"df-3fc6aa3e-a4b3-4233-9e05-b67f515b223f\">\n",
              "    <div class=\"colab-df-container\">\n",
              "      <div>\n",
              "<style scoped>\n",
              "    .dataframe tbody tr th:only-of-type {\n",
              "        vertical-align: middle;\n",
              "    }\n",
              "\n",
              "    .dataframe tbody tr th {\n",
              "        vertical-align: top;\n",
              "    }\n",
              "\n",
              "    .dataframe thead th {\n",
              "        text-align: right;\n",
              "    }\n",
              "</style>\n",
              "<table border=\"1\" class=\"dataframe\">\n",
              "  <thead>\n",
              "    <tr style=\"text-align: right;\">\n",
              "      <th></th>\n",
              "      <th>text</th>\n",
              "      <th>label</th>\n",
              "      <th>emotion</th>\n",
              "    </tr>\n",
              "  </thead>\n",
              "  <tbody>\n",
              "    <tr>\n",
              "      <th>0</th>\n",
              "      <td>i did not feel humiliated</td>\n",
              "      <td>0</td>\n",
              "      <td>sadness</td>\n",
              "    </tr>\n",
              "    <tr>\n",
              "      <th>1</th>\n",
              "      <td>i can go from feeling so hopeless to so damned...</td>\n",
              "      <td>0</td>\n",
              "      <td>sadness</td>\n",
              "    </tr>\n",
              "    <tr>\n",
              "      <th>2</th>\n",
              "      <td>i am grabbing a minute to post i feel greedy w...</td>\n",
              "      <td>3</td>\n",
              "      <td>anger</td>\n",
              "    </tr>\n",
              "    <tr>\n",
              "      <th>3</th>\n",
              "      <td>i am ever feeling nostalgic about the fireplac...</td>\n",
              "      <td>2</td>\n",
              "      <td>love</td>\n",
              "    </tr>\n",
              "    <tr>\n",
              "      <th>4</th>\n",
              "      <td>i am feeling grouchy</td>\n",
              "      <td>3</td>\n",
              "      <td>anger</td>\n",
              "    </tr>\n",
              "  </tbody>\n",
              "</table>\n",
              "</div>\n",
              "      <button class=\"colab-df-convert\" onclick=\"convertToInteractive('df-3fc6aa3e-a4b3-4233-9e05-b67f515b223f')\"\n",
              "              title=\"Convert this dataframe to an interactive table.\"\n",
              "              style=\"display:none;\">\n",
              "        \n",
              "  <svg xmlns=\"http://www.w3.org/2000/svg\" height=\"24px\"viewBox=\"0 0 24 24\"\n",
              "       width=\"24px\">\n",
              "    <path d=\"M0 0h24v24H0V0z\" fill=\"none\"/>\n",
              "    <path d=\"M18.56 5.44l.94 2.06.94-2.06 2.06-.94-2.06-.94-.94-2.06-.94 2.06-2.06.94zm-11 1L8.5 8.5l.94-2.06 2.06-.94-2.06-.94L8.5 2.5l-.94 2.06-2.06.94zm10 10l.94 2.06.94-2.06 2.06-.94-2.06-.94-.94-2.06-.94 2.06-2.06.94z\"/><path d=\"M17.41 7.96l-1.37-1.37c-.4-.4-.92-.59-1.43-.59-.52 0-1.04.2-1.43.59L10.3 9.45l-7.72 7.72c-.78.78-.78 2.05 0 2.83L4 21.41c.39.39.9.59 1.41.59.51 0 1.02-.2 1.41-.59l7.78-7.78 2.81-2.81c.8-.78.8-2.07 0-2.86zM5.41 20L4 18.59l7.72-7.72 1.47 1.35L5.41 20z\"/>\n",
              "  </svg>\n",
              "      </button>\n",
              "      \n",
              "  <style>\n",
              "    .colab-df-container {\n",
              "      display:flex;\n",
              "      flex-wrap:wrap;\n",
              "      gap: 12px;\n",
              "    }\n",
              "\n",
              "    .colab-df-convert {\n",
              "      background-color: #E8F0FE;\n",
              "      border: none;\n",
              "      border-radius: 50%;\n",
              "      cursor: pointer;\n",
              "      display: none;\n",
              "      fill: #1967D2;\n",
              "      height: 32px;\n",
              "      padding: 0 0 0 0;\n",
              "      width: 32px;\n",
              "    }\n",
              "\n",
              "    .colab-df-convert:hover {\n",
              "      background-color: #E2EBFA;\n",
              "      box-shadow: 0px 1px 2px rgba(60, 64, 67, 0.3), 0px 1px 3px 1px rgba(60, 64, 67, 0.15);\n",
              "      fill: #174EA6;\n",
              "    }\n",
              "\n",
              "    [theme=dark] .colab-df-convert {\n",
              "      background-color: #3B4455;\n",
              "      fill: #D2E3FC;\n",
              "    }\n",
              "\n",
              "    [theme=dark] .colab-df-convert:hover {\n",
              "      background-color: #434B5C;\n",
              "      box-shadow: 0px 1px 3px 1px rgba(0, 0, 0, 0.15);\n",
              "      filter: drop-shadow(0px 1px 2px rgba(0, 0, 0, 0.3));\n",
              "      fill: #FFFFFF;\n",
              "    }\n",
              "  </style>\n",
              "\n",
              "      <script>\n",
              "        const buttonEl =\n",
              "          document.querySelector('#df-3fc6aa3e-a4b3-4233-9e05-b67f515b223f button.colab-df-convert');\n",
              "        buttonEl.style.display =\n",
              "          google.colab.kernel.accessAllowed ? 'block' : 'none';\n",
              "\n",
              "        async function convertToInteractive(key) {\n",
              "          const element = document.querySelector('#df-3fc6aa3e-a4b3-4233-9e05-b67f515b223f');\n",
              "          const dataTable =\n",
              "            await google.colab.kernel.invokeFunction('convertToInteractive',\n",
              "                                                     [key], {});\n",
              "          if (!dataTable) return;\n",
              "\n",
              "          const docLinkHtml = 'Like what you see? Visit the ' +\n",
              "            '<a target=\"_blank\" href=https://colab.research.google.com/notebooks/data_table.ipynb>data table notebook</a>'\n",
              "            + ' to learn more about interactive tables.';\n",
              "          element.innerHTML = '';\n",
              "          dataTable['output_type'] = 'display_data';\n",
              "          await google.colab.output.renderOutput(dataTable, element);\n",
              "          const docLink = document.createElement('div');\n",
              "          docLink.innerHTML = docLinkHtml;\n",
              "          element.appendChild(docLink);\n",
              "        }\n",
              "      </script>\n",
              "    </div>\n",
              "  </div>\n",
              "  "
            ],
            "text/plain": [
              "                                                text  label  emotion\n",
              "0                          i did not feel humiliated      0  sadness\n",
              "1  i can go from feeling so hopeless to so damned...      0  sadness\n",
              "2  i am grabbing a minute to post i feel greedy w...      3    anger\n",
              "3  i am ever feeling nostalgic about the fireplac...      2     love\n",
              "4                               i am feeling grouchy      3    anger"
            ]
          },
          "metadata": {},
          "execution_count": 5
        }
      ],
      "source": [
        "data_train.head()"
      ]
    },
    {
      "cell_type": "markdown",
      "metadata": {
        "id": "7JbRkFirJow7"
      },
      "source": [
        "<a name=\"dataset_statistics\"></a>\n",
        "## Dataset Statistics"
      ]
    },
    {
      "cell_type": "code",
      "execution_count": 6,
      "metadata": {
        "colab": {
          "base_uri": "https://localhost:8080/",
          "height": 306
        },
        "id": "RuNyiiqnQ-LI",
        "outputId": "0652722a-45fe-430d-9095-af536db12946"
      },
      "outputs": [
        {
          "output_type": "execute_result",
          "data": {
            "text/plain": [
              "<matplotlib.axes._subplots.AxesSubplot at 0x7f9253451050>"
            ]
          },
          "metadata": {},
          "execution_count": 6
        },
        {
          "output_type": "display_data",
          "data": {
            "image/png": "[encoded data removed]",
            "text/plain": [
              "<Figure size 432x288 with 1 Axes>"
            ]
          },
          "metadata": {
            "needs_background": "light"
          }
        }
      ],
      "source": [
        "# @title Distribution of emotions for training\n",
        "sns.countplot(x=tweet_emotions_training['emotion'], order = tweet_emotions_training['emotion'].value_counts(normalize=True).index)"
      ]
    },
    {
      "cell_type": "code",
      "execution_count": 7,
      "metadata": {
        "colab": {
          "base_uri": "https://localhost:8080/",
          "height": 306
        },
        "id": "gqstcHC6Swwg",
        "outputId": "398351a3-6246-4154-8598-f71ce1cd6f14"
      },
      "outputs": [
        {
          "output_type": "execute_result",
          "data": {
            "text/plain": [
              "<matplotlib.axes._subplots.AxesSubplot at 0x7f9253199190>"
            ]
          },
          "metadata": {},
          "execution_count": 7
        },
        {
          "output_type": "display_data",
          "data": {
            "image/png": "[encoded data removed]",
            "text/plain": [
              "<Figure size 432x288 with 1 Axes>"
            ]
          },
          "metadata": {
            "needs_background": "light"
          }
        }
      ],
      "source": [
        "# @title Distribution of emotions for testing\n",
        "sns.countplot(x=tweet_emotions_test['emotion'], order = tweet_emotions_test['emotion'].value_counts(normalize=True).index)"
      ]
    },
    {
      "cell_type": "code",
      "execution_count": 8,
      "metadata": {
        "colab": {
          "base_uri": "https://localhost:8080/",
          "height": 384
        },
        "id": "BERuEwfDL3BJ",
        "outputId": "f74d7738-e3ba-4b79-e986-85ab9d224a70"
      },
      "outputs": [
        {
          "output_type": "display_data",
          "data": {
            "image/png": "[encoded data removed]",
            "text/plain": [
              "<Figure size 720x720 with 1 Axes>"
            ]
          },
          "metadata": {
            "needs_background": "light"
          }
        }
      ],
      "source": [
        "from wordcloud import WordCloud\n",
        "\n",
        "def word_count(df, title):\n",
        "    word_cloud = WordCloud(max_words=200,\n",
        "                           background_color='white',\n",
        "                           stopwords=STOP_WORDS,\n",
        "                           colormap='bone',\n",
        "                           height=1000,\n",
        "                           width=1800)\n",
        "    tweets = df.text.values\n",
        "    word_cloud.generate(str(tweets).lower())\n",
        "    fig = plt.figure()\n",
        "    plt.imshow(word_cloud)\n",
        "    fig.set_figwidth(10)\n",
        "    fig.set_figheight(10)\n",
        "    plt.title(title, fontdict={\"fontsize\": 20})\n",
        "    plt.show()\n",
        "\n",
        "word_count(data_train, \"Tweets for Training\")"
      ]
    },
    {
      "cell_type": "markdown",
      "metadata": {
        "id": "Ri6RQ1hwJ3MP"
      },
      "source": [
        "## Feature Extraction\n",
        "Convert words to numerical data and prepare features and classes for training/test"
      ]
    },
    {
      "cell_type": "code",
      "execution_count": 9,
      "metadata": {
        "colab": {
          "base_uri": "https://localhost:8080/"
        },
        "id": "Ud3x4s79LzEO",
        "outputId": "f0cb128c-2638-45be-a359-98a8ea2af617"
      },
      "outputs": [
        {
          "output_type": "stream",
          "name": "stdout",
          "text": [
            "\n",
            "  There are 16000 tweets for training, and 2000 for test. \n",
            "  Each with 15014 features\n",
            "\n"
          ]
        }
      ],
      "source": [
        "from sklearn.feature_extraction.text import CountVectorizer\n",
        "\n",
        "\n",
        "# method to convert text to numerical data\n",
        "# perform feature extraction (vectorization)\n",
        "vectorizer = CountVectorizer()\n",
        "\n",
        "vectorizer.fit(data_train[\"text\"].values)\n",
        "\n",
        "# text are our features\n",
        "x_train_matrix = vectorizer.transform(data_train[\"text\"].values)\n",
        "x_test_matrix  = vectorizer.transform(data_test[\"text\"].values)\n",
        "\n",
        "x_train = x_train_matrix.toarray()\n",
        "x_test = x_test_matrix.toarray()\n",
        "\n",
        "y_train = tweet_emotions_training[\"label\"]\n",
        "y_test = tweet_emotions_test[\"label\"]\n",
        "\n",
        "print(f'''\n",
        "  There are {x_train.shape[0]} tweets for training, and {x_test.shape[0]} for test. \n",
        "  Each with {x_train.shape[1]} features\n",
        "''')"
      ]
    },
    {
      "cell_type": "markdown",
      "metadata": {
        "id": "AKTyy7ioUVjl"
      },
      "source": [
        "<a name=\"models\"></a>\n",
        "# Models\n",
        "Define the following models:\n",
        "\n",
        "*   DNN (Deep Neural Network)\n",
        "*   SVC (Support Vector Machine)\n",
        "*   Random Forest\n",
        "*   Logistic Regression\n",
        "\n",
        "for each the training phase is carried out."
      ]
    },
    {
      "cell_type": "markdown",
      "metadata": {
        "id": "9uR8147HUYi6"
      },
      "source": [
        "<a name=\"deep_learning\"></a>\n",
        "## Deep Learning"
      ]
    },
    {
      "cell_type": "code",
      "execution_count": 10,
      "metadata": {
        "colab": {
          "base_uri": "https://localhost:8080/"
        },
        "id": "iRzTChcYNOfP",
        "outputId": "d3808f08-b6cd-45d4-8a90-4a064a0563f0"
      },
      "outputs": [
        {
          "output_type": "stream",
          "name": "stdout",
          "text": [
            "Model: \"sequential\"\n",
            "_________________________________________________________________\n",
            " Layer (type)                Output Shape              Param #   \n",
            "=================================================================\n",
            " flatten (Flatten)           (None, 15014)             0         \n",
            "                                                                 \n",
            " dense (Dense)               (None, 32)                480480    \n",
            "                                                                 \n",
            " dense_1 (Dense)             (None, 128)               4224      \n",
            "                                                                 \n",
            " dropout (Dropout)           (None, 128)               0         \n",
            "                                                                 \n",
            " dense_2 (Dense)             (None, 6)                 774       \n",
            "                                                                 \n",
            "=================================================================\n",
            "Total params: 485,478\n",
            "Trainable params: 485,478\n",
            "Non-trainable params: 0\n",
            "_________________________________________________________________\n"
          ]
        }
      ],
      "source": [
        "#@title **Definition of the DNN model**\n",
        "from keras.models import Sequential\n",
        "from keras import layers\n",
        "\n",
        "model = Sequential([\n",
        "  layers.Flatten( input_dim=x_train.shape[1]),\n",
        "  layers.Dense(32, activation=tf.nn.relu),\n",
        "  layers.Dense(128, activation=tf.nn.relu),\n",
        "  layers.Dropout(0.4),\n",
        "  layers.Dense(NUM_CLASSES, activation=tf.nn.softmax)\n",
        "])\n",
        "\n",
        "# evita overfitting al deterner el entrenamiento cuando el validation loss empieza\n",
        "# a crecer demasiado\n",
        "\n",
        "model.compile(\n",
        "  optimizer=tf.keras.optimizers.Adam(learning_rate=0.00005), \n",
        "  loss='sparse_categorical_crossentropy',\n",
        "  metrics=['accuracy']\n",
        ")\n",
        "model.summary()"
      ]
    },
    {
      "cell_type": "code",
      "execution_count": 11,
      "metadata": {
        "colab": {
          "base_uri": "https://localhost:8080/"
        },
        "id": "POPM4EdrWGX0",
        "outputId": "3b054c05-ae33-4d9f-bd45-aad868ac379a"
      },
      "outputs": [
        {
          "output_type": "stream",
          "name": "stdout",
          "text": [
            "Epoch 1/10\n",
            "500/500 [==============================] - 9s 9ms/step - loss: 1.7430 - accuracy: 0.3126 - val_loss: 1.6472 - val_accuracy: 0.3525\n",
            "Epoch 2/10\n",
            "500/500 [==============================] - 4s 8ms/step - loss: 1.5892 - accuracy: 0.3825 - val_loss: 1.5293 - val_accuracy: 0.4430\n",
            "Epoch 3/10\n",
            "500/500 [==============================] - 4s 7ms/step - loss: 1.4914 - accuracy: 0.4856 - val_loss: 1.4285 - val_accuracy: 0.5440\n",
            "Epoch 4/10\n",
            "500/500 [==============================] - 2s 5ms/step - loss: 1.3462 - accuracy: 0.5667 - val_loss: 1.2817 - val_accuracy: 0.5860\n",
            "Epoch 5/10\n",
            "500/500 [==============================] - 2s 5ms/step - loss: 1.1619 - accuracy: 0.6214 - val_loss: 1.1200 - val_accuracy: 0.6425\n",
            "Epoch 6/10\n",
            "500/500 [==============================] - 2s 5ms/step - loss: 0.9765 - accuracy: 0.6977 - val_loss: 0.9642 - val_accuracy: 0.7125\n",
            "Epoch 7/10\n",
            "500/500 [==============================] - 3s 5ms/step - loss: 0.8048 - accuracy: 0.7809 - val_loss: 0.8315 - val_accuracy: 0.7690\n",
            "Epoch 8/10\n",
            "500/500 [==============================] - 2s 5ms/step - loss: 0.6629 - accuracy: 0.8349 - val_loss: 0.7237 - val_accuracy: 0.8090\n",
            "Epoch 9/10\n",
            "500/500 [==============================] - 2s 5ms/step - loss: 0.5488 - accuracy: 0.8738 - val_loss: 0.6330 - val_accuracy: 0.8385\n",
            "Epoch 10/10\n",
            "500/500 [==============================] - 2s 5ms/step - loss: 0.4575 - accuracy: 0.8948 - val_loss: 0.5629 - val_accuracy: 0.8540\n"
          ]
        }
      ],
      "source": [
        "#@title Entrenamiento { display-mode: \"form\" }\n",
        "epochs = 10#@param {type:\"number\"}\n",
        "batch_size = 32#@param {type:\"number\"}\n",
        "\n",
        "dnn_training_history = model.fit(\n",
        "  x_train, \n",
        "  y_train, \n",
        "  epochs=epochs, \n",
        "  batch_size=batch_size,\n",
        "  verbose=True,\n",
        "  validation_data=(x_test, y_test),\n",
        ")"
      ]
    },
    {
      "cell_type": "code",
      "execution_count": 12,
      "metadata": {
        "colab": {
          "base_uri": "https://localhost:8080/",
          "height": 361
        },
        "id": "nSYCBbNWKOdm",
        "outputId": "b61784ec-7f4d-4749-eb2a-9bfda29d9df9"
      },
      "outputs": [
        {
          "output_type": "display_data",
          "data": {
            "image/png": "[encoded data removed]",
            "text/plain": [
              "<Figure size 864x360 with 2 Axes>"
            ]
          },
          "metadata": {
            "needs_background": "light"
          }
        }
      ],
      "source": [
        "plot_history(dnn_training_history, title=\"Training stats with cleaned tweets\")"
      ]
    },
    {
      "cell_type": "markdown",
      "metadata": {
        "id": "gWLjGz1vDbpY"
      },
      "source": [
        "## Other Machine Learning Algorithms"
      ]
    },
    {
      "cell_type": "markdown",
      "metadata": {
        "id": "ysjmHi-0Ubkx"
      },
      "source": [
        "<a name=\"svc\"></a>\n",
        "### Support Vector Machine"
      ]
    },
    {
      "cell_type": "code",
      "execution_count": 13,
      "metadata": {
        "cellView": "form",
        "id": "RYPHDgZUUeJ9",
        "colab": {
          "base_uri": "https://localhost:8080/"
        },
        "outputId": "cba65342-226f-4d04-ee2d-fcdce56c3d52"
      },
      "outputs": [
        {
          "output_type": "execute_result",
          "data": {
            "text/plain": [
              "SVC(degree=5)"
            ]
          },
          "metadata": {},
          "execution_count": 13
        }
      ],
      "source": [
        "from sklearn.svm import SVC as SupportVectorMachine\n",
        "\n",
        "kernel = \"rbf\"#@param {type:\"string\"}\n",
        "degree = 5#@param {type:\"number\"}\n",
        "SVC = SupportVectorMachine(kernel=kernel, degree=degree)\n",
        "\n",
        "SVC.fit(x_train_matrix, y_train)"
      ]
    },
    {
      "cell_type": "markdown",
      "metadata": {
        "id": "G9Dywrn7WlVr"
      },
      "source": [
        "<a name=\"rf\"></a>\n",
        "### Random Forest"
      ]
    },
    {
      "cell_type": "code",
      "execution_count": 14,
      "metadata": {
        "colab": {
          "base_uri": "https://localhost:8080/"
        },
        "id": "vQKXxRA_Woem",
        "outputId": "8fa4f69c-d38a-44b0-83d7-964fe6c1f1e0"
      },
      "outputs": [
        {
          "output_type": "execute_result",
          "data": {
            "text/plain": [
              "RandomForestClassifier(max_depth=50, n_estimators=150)"
            ]
          },
          "metadata": {},
          "execution_count": 14
        }
      ],
      "source": [
        "from sklearn.ensemble import RandomForestClassifier\n",
        "\n",
        "max_depth = 50#@param {type:  \"number\"}\n",
        "n_estimators = 150#@param {type:  \"number\"}\n",
        "RF = RandomForestClassifier(max_depth=max_depth, n_estimators=n_estimators)\n",
        "\n",
        "RF.fit(x_train, y_train)"
      ]
    },
    {
      "cell_type": "code",
      "execution_count": 16,
      "metadata": {
        "colab": {
          "base_uri": "https://localhost:8080/"
        },
        "id": "MUVYzestJB1q",
        "outputId": "d94467d7-39cd-4b7f-cb5c-6aec55755419"
      },
      "outputs": [
        {
          "output_type": "stream",
          "name": "stdout",
          "text": [
            "Performance with Random Forest: 0.7225\n"
          ]
        }
      ],
      "source": [
        "# predictions with Random Forest\n",
        "from sklearn.metrics import accuracy_score\n",
        "predictions = RF.predict(x_test_matrix)\n",
        "perf = accuracy_score(y_test, predictions)\n",
        "\n",
        "print(f\"Performance with Random Forest: {round(perf, 4)}\")"
      ]
    },
    {
      "cell_type": "code",
      "execution_count": 17,
      "metadata": {
        "id": "G4W6BBrDJ_5s"
      },
      "outputs": [],
      "source": [
        "import operator\n",
        "from collections import OrderedDict\n",
        "\n",
        "imap = {}\n",
        "for word, importance in zip(vectorizer.vocabulary_.keys(), RF.feature_importances_):\n",
        "  imap[word] = importance\n",
        "\n",
        "sort_imap = sorted(imap, key=imap.get, reverse=True)"
      ]
    },
    {
      "cell_type": "code",
      "execution_count": 18,
      "metadata": {
        "id": "Z_dAHWzNKlWV",
        "colab": {
          "base_uri": "https://localhost:8080/"
        },
        "outputId": "b1647691-0f3e-4f24-ceb2-3ad205ffb1b3"
      },
      "outputs": [
        {
          "output_type": "stream",
          "name": "stdout",
          "text": [
            "• weismans\n",
            "• fed\n",
            "• blowout\n",
            "• manage\n",
            "• dies\n",
            "• prepared\n",
            "• dialog\n",
            "• softer\n",
            "• rockette\n",
            "• cooperati\n",
            "• eventual\n",
            "• knwing\n",
            "• awkwardly\n",
            "• blogstalkers\n",
            "• filed\n"
          ]
        }
      ],
      "source": [
        "N_WORDS = 15\n",
        "for word in sort_imap[:N_WORDS]:\n",
        "  print(f\"• {word}\")"
      ]
    },
    {
      "cell_type": "markdown",
      "metadata": {
        "id": "mjs5RbhxDhpr"
      },
      "source": [
        "<a name=\"lr\"></a>\n",
        "### Logistic Regression"
      ]
    },
    {
      "cell_type": "code",
      "execution_count": 19,
      "metadata": {
        "id": "HebfhOHRDjmw",
        "colab": {
          "base_uri": "https://localhost:8080/"
        },
        "outputId": "dd2e7059-05d4-4f28-ca47-b3de9d6b4917"
      },
      "outputs": [
        {
          "output_type": "execute_result",
          "data": {
            "text/plain": [
              "LogisticRegression(max_iter=1000, multi_class='multinomial')"
            ]
          },
          "metadata": {},
          "execution_count": 19
        }
      ],
      "source": [
        "from sklearn.linear_model import LogisticRegression\n",
        "\n",
        "LR = LogisticRegression(max_iter=1000, multi_class='multinomial', solver='lbfgs')\n",
        "LR.fit(x_train_matrix, y_train)"
      ]
    },
    {
      "cell_type": "markdown",
      "metadata": {
        "id": "HiUpI-qCT8Lv"
      },
      "source": [
        "<a name=\"testing_predictions\"></a>\n",
        "# Testing and Predictions"
      ]
    },
    {
      "cell_type": "code",
      "execution_count": 20,
      "metadata": {
        "cellView": "code",
        "id": "vz4kA5K99NHZ",
        "colab": {
          "base_uri": "https://localhost:8080/"
        },
        "outputId": "2b9afd3c-348e-4ded-fc61-d1f0652ba3e9"
      },
      "outputs": [
        {
          "output_type": "stream",
          "name": "stdout",
          "text": [
            "Performance with Random Forest: 0.7225\n",
            "Performance with Support Vector Machine: 0.803\n",
            "Performance with Logistic Regressor: 0.8845\n"
          ]
        }
      ],
      "source": [
        "#@title Random Forest and Support Vector Machine\n",
        "from sklearn.metrics import accuracy_score, make_scorer, mean_squared_error, mean_absolute_error\n",
        "from sklearn.model_selection import train_test_split, cross_val_score, KFold\n",
        "from sklearn.model_selection import KFold, cross_val_score\n",
        "\n",
        "# predictions with Random Forest\n",
        "predictions = RF.predict(x_test_matrix)\n",
        "perf = accuracy_score(y_test, predictions)\n",
        "\n",
        "print(f\"Performance with Random Forest: {round(perf, 4)}\")\n",
        "\n",
        "\n",
        "# predictions with Support Vector Machine\n",
        "predictions = SVC.predict(x_test_matrix)\n",
        "perf = accuracy_score(y_test, predictions)\n",
        "\n",
        "print(f\"Performance with Support Vector Machine: {round(perf, 4)}\")\n",
        "\n",
        "predictions = LR.predict(x_test_matrix)\n",
        "perf = accuracy_score(y_test, predictions)\n",
        "print(f\"Performance with Logistic Regressor: {round(perf, 4)}\")"
      ]
    },
    {
      "cell_type": "code",
      "execution_count": 21,
      "metadata": {
        "id": "oorCt7pxZl6X",
        "colab": {
          "base_uri": "https://localhost:8080/",
          "height": 340
        },
        "outputId": "d9eb62dd-d452-43fc-e691-793b538ac569"
      },
      "outputs": [
        {
          "output_type": "stream",
          "name": "stdout",
          "text": [
            "63/63 [==============================] - 0s 4ms/step - loss: 0.5629 - accuracy: 0.8540\n",
            "DNN training Accuracy: 0.9168\n",
            "DNN testing Accuracy:  0.8540\n"
          ]
        },
        {
          "output_type": "execute_result",
          "data": {
            "text/plain": [
              "<matplotlib.image.AxesImage at 0x7f91d3d51c90>"
            ]
          },
          "metadata": {},
          "execution_count": 21
        },
        {
          "output_type": "display_data",
          "data": {
            "image/png": "[encoded data removed]",
            "text/plain": [
              "<Figure size 432x288 with 1 Axes>"
            ]
          },
          "metadata": {
            "needs_background": "light"
          }
        }
      ],
      "source": [
        "#@title Deep Neural Network\n",
        "from sklearn.metrics import confusion_matrix\n",
        "\n",
        "# check to detect overfitting/underfitting\n",
        "train_loss, train_acc = model.evaluate(x_train, y_train, verbose=False)\n",
        "test_loss, test_acc = model.evaluate(x_test, y_test)\n",
        "\n",
        "print(\"DNN training Accuracy: {:.4f}\".format(train_acc))\n",
        "print(\"DNN testing Accuracy:  {:.4f}\".format(test_acc))\n",
        "\n",
        "predictions = model.predict(x_test)\n",
        "\n",
        "labels_pred = np.argmax(predictions, axis=1)\n",
        "cm_test = confusion_matrix(y_test, labels_pred)\n",
        "plt.imshow(cm_test)"
      ]
    },
    {
      "cell_type": "markdown",
      "metadata": {
        "id": "8rCNU8akQrE7"
      },
      "source": [
        "<a name=\"playground\"></a>\n",
        "# Playground"
      ]
    },
    {
      "cell_type": "code",
      "execution_count": 22,
      "metadata": {
        "cellView": "form",
        "id": "rwBIAe0xAOuC",
        "colab": {
          "base_uri": "https://localhost:8080/"
        },
        "outputId": "f7195e1d-2601-4991-cb2e-65b26a6d66bd"
      },
      "outputs": [
        {
          "output_type": "stream",
          "name": "stdout",
          "text": [
            "The input tweet transmits mainly: joy (92.2%). It's followed by: \n",
            "\n",
            " - love: 2.4%\n",
            " - anger: 2.0%\n",
            "\n",
            "Extra: Prediction with Logistic Regressor: joy\n"
          ]
        }
      ],
      "source": [
        "#@title Enter your tweet for emotion extraction!\n",
        "input_tweet = \"This is such a great day, I am being very productive\"#@param {type:\"string\"}\n",
        "\n",
        "processed_tweet = clean_tweet(input_tweet)\n",
        "\n",
        "x_predict = vectorizer.transform([processed_tweet])\n",
        "predictions = model.predict(x_predict.toarray())\n",
        "\n",
        "emotion_lbl = np.argmax(predictions, axis=1)[0]\n",
        "emotion = EMOTIONS_MAP[emotion_lbl]\n",
        "print(f\"The input tweet transmits mainly: {emotion} ({to_percent(predictions[0][emotion_lbl], 1)}%). It's followed by: \\n\")\n",
        "indexes_higher_emotions = np.flip(np.argsort(predictions))[0]\n",
        "\n",
        "for index in indexes_higher_emotions[1:3]:\n",
        "  emotion = EMOTIONS_MAP[index]\n",
        "  print(f\" - {emotion}: {to_percent(predictions[0][index], 1)}%\")\n",
        "\n",
        "emotion_lbl = LR.predict(x_predict)[0]\n",
        "emotion = EMOTIONS_MAP[emotion_lbl]\n",
        "print(f\"\\nExtra: Prediction with Logistic Regressor: {emotion}\")\n"
      ]
    },
    {
      "cell_type": "markdown",
      "metadata": {
        "id": "HCrUNqvhFJsV"
      },
      "source": [
        "# References\n",
        "\n",
        "*   https://www.kaggle.com/sanikamal/text-classification-with-python-and-keras\n",
        "*   https://towardsdatascience.com/analysis-of-the-emotion-data-a-dataset-for-emotion-recognition-tasks-6b8c9a5dfe57\n",
        "*   https://www.kaggle.com/skrisshnaswamy/sentiment-analysis-sentiment140-l-nfs-vs-gru\n"
      ]
    }
  ],
  "metadata": {
    "accelerator": "GPU",
    "colab": {
      "collapsed_sections": [],
      "name": "TweCla.ipynb",
      "provenance": []
    },
    "kernelspec": {
      "display_name": "Python 3",
      "name": "python3"
    },
    "language_info": {
      "name": "python"
    }
  },
  "nbformat": 4,
  "nbformat_minor": 0
}